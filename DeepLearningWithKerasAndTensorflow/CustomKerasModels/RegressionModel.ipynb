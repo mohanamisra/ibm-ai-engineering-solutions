{
 "cells": [
  {
   "cell_type": "code",
   "id": "initial_id",
   "metadata": {
    "collapsed": true,
    "ExecuteTime": {
     "end_time": "2024-11-09T13:24:57.116004Z",
     "start_time": "2024-11-09T13:24:57.112856Z"
    }
   },
   "source": [
    "import tensorflow as tf\n",
    "print(tf.__version__)"
   ],
   "outputs": [
    {
     "name": "stdout",
     "output_type": "stream",
     "text": [
      "2.16.1\n"
     ]
    }
   ],
   "execution_count": 132
  },
  {
   "metadata": {
    "ExecuteTime": {
     "end_time": "2024-11-09T13:24:57.271774Z",
     "start_time": "2024-11-09T13:24:57.269483Z"
    }
   },
   "cell_type": "code",
   "source": [
    "from tensorflow.keras import Layer\n",
    "from tensorflow import keras\n",
    "from keras.api.models import Sequential"
   ],
   "id": "f56c0f7ccccbddc0",
   "outputs": [],
   "execution_count": 133
  },
  {
   "metadata": {
    "ExecuteTime": {
     "end_time": "2024-11-09T13:24:57.422643Z",
     "start_time": "2024-11-09T13:24:57.418778Z"
    }
   },
   "cell_type": "code",
   "source": [
    "class CustomDenseLayer(Layer):\n",
    "    def __init__(self, units=64):\n",
    "        super(CustomDenseLayer, self).__init__()\n",
    "        self.units = units\n",
    "    def build(self, input_shape):\n",
    "        self.w = self.add_weight(shape=(input_shape[-1], self.units),\n",
    "                                 initializer = 'random_normal',\n",
    "                                 trainable=True)\n",
    "        self.b = self.add_weight(shape=(self.units,),\n",
    "                                 initializer = 'zeros',\n",
    "                                 trainable=True)\n",
    "    def call(self, inputs):\n",
    "        return tf.nn.relu(tf.matmul(inputs, self.w) + self.b)"
   ],
   "id": "d47238abeac5311d",
   "outputs": [],
   "execution_count": 134
  },
  {
   "metadata": {
    "ExecuteTime": {
     "end_time": "2024-11-09T13:24:57.568488Z",
     "start_time": "2024-11-09T13:24:57.564615Z"
    }
   },
   "cell_type": "code",
   "source": [
    "from tensorflow.keras.layers import Softmax\n",
    "\n",
    "model = Sequential([\n",
    "    CustomDenseLayer(128),\n",
    "    CustomDenseLayer(32),\n",
    "    CustomDenseLayer(8),\n",
    "])"
   ],
   "id": "440ff3ae6dc2c315",
   "outputs": [],
   "execution_count": 135
  },
  {
   "metadata": {
    "ExecuteTime": {
     "end_time": "2024-11-09T13:24:57.709247Z",
     "start_time": "2024-11-09T13:24:57.702532Z"
    }
   },
   "cell_type": "code",
   "source": [
    "model.compile(\n",
    "    optimizer='sgd',\n",
    "    loss='mse',\n",
    "    metrics=[keras.metrics.RootMeanSquaredError()])"
   ],
   "id": "cb36e109e3202f50",
   "outputs": [],
   "execution_count": 136
  },
  {
   "metadata": {
    "ExecuteTime": {
     "end_time": "2024-11-09T13:24:58.199282Z",
     "start_time": "2024-11-09T13:24:58.193001Z"
    }
   },
   "cell_type": "code",
   "source": [
    "import pandas as pd\n",
    "import numpy as np\n",
    "\n",
    "df = pd.read_csv('./londonhousing_regression.csv')\n",
    "print(df.shape)"
   ],
   "id": "917223bb62955315",
   "outputs": [
    {
     "name": "stdout",
     "output_type": "stream",
     "text": [
      "(1071, 12)\n"
     ]
    }
   ],
   "execution_count": 137
  },
  {
   "metadata": {
    "ExecuteTime": {
     "end_time": "2024-11-09T13:24:58.525729Z",
     "start_time": "2024-11-09T13:24:58.523228Z"
    }
   },
   "cell_type": "code",
   "source": "print(df.columns)",
   "id": "c135ba098ee0762a",
   "outputs": [
    {
     "name": "stdout",
     "output_type": "stream",
     "text": [
      "Index(['code', 'area', 'date', 'median_salary', 'life_satisfaction',\n",
      "       'mean_salary', 'recycling_pct', 'population_size', 'number_of_jobs',\n",
      "       'area_size', 'no_of_houses', 'borough_flag'],\n",
      "      dtype='object')\n"
     ]
    }
   ],
   "execution_count": 138
  },
  {
   "metadata": {
    "ExecuteTime": {
     "end_time": "2024-11-09T13:24:58.776429Z",
     "start_time": "2024-11-09T13:24:58.767863Z"
    }
   },
   "cell_type": "code",
   "source": [
    "from sklearn.preprocessing import LabelEncoder\n",
    "\n",
    "df['mean_salary'] = df['mean_salary'].replace('#', np.nan)\n",
    "df['mean_salary'] = df['mean_salary'].replace('-', np.nan)\n",
    "df.dropna(inplace=True)\n",
    "\n",
    "le = LabelEncoder()\n",
    "x = df.iloc[:, :-1]\n",
    "y = df.iloc[:, -1]\n",
    "\n",
    "x.drop(columns='code', inplace=True)\n",
    "x['year'] = x['date'].str.split('-', expand=True)[0]\n",
    "x.drop(columns='date', inplace=True)\n",
    "x['area'] = le.fit_transform(x['area'])"
   ],
   "id": "98401bb4b6b13e28",
   "outputs": [],
   "execution_count": 139
  },
  {
   "metadata": {
    "ExecuteTime": {
     "end_time": "2024-11-09T13:24:58.985620Z",
     "start_time": "2024-11-09T13:24:58.981012Z"
    }
   },
   "cell_type": "code",
   "source": [
    "from sklearn.model_selection import train_test_split\n",
    "\n",
    "x_train, x_test, y_train, y_test = train_test_split(x, y, test_size=0.25, random_state=42)"
   ],
   "id": "ca0408432d47ecde",
   "outputs": [],
   "execution_count": 140
  },
  {
   "metadata": {
    "ExecuteTime": {
     "end_time": "2024-11-09T13:24:59.306254Z",
     "start_time": "2024-11-09T13:24:59.282541Z"
    }
   },
   "cell_type": "code",
   "source": "model.build((None, x_train.shape[1]))",
   "id": "a1177f2431bee312",
   "outputs": [],
   "execution_count": 141
  },
  {
   "metadata": {
    "ExecuteTime": {
     "end_time": "2024-11-09T13:25:00.046547Z",
     "start_time": "2024-11-09T13:24:59.598702Z"
    }
   },
   "cell_type": "code",
   "source": "model.fit(x_train, y_train, epochs=10, batch_size=10)",
   "id": "333ac9989bf3b597",
   "outputs": [
    {
     "name": "stdout",
     "output_type": "stream",
     "text": [
      "Epoch 1/10\n",
      "\u001B[1m20/20\u001B[0m \u001B[32m━━━━━━━━━━━━━━━━━━━━\u001B[0m\u001B[37m\u001B[0m \u001B[1m0s\u001B[0m 714us/step - loss: 153208.7656 - root_mean_squared_error: 351.8931\n",
      "Epoch 2/10\n",
      "\u001B[1m20/20\u001B[0m \u001B[32m━━━━━━━━━━━━━━━━━━━━\u001B[0m\u001B[37m\u001B[0m \u001B[1m0s\u001B[0m 658us/step - loss: 0.9459 - root_mean_squared_error: 0.9726\n",
      "Epoch 3/10\n",
      "\u001B[1m20/20\u001B[0m \u001B[32m━━━━━━━━━━━━━━━━━━━━\u001B[0m\u001B[37m\u001B[0m \u001B[1m0s\u001B[0m 751us/step - loss: 0.9526 - root_mean_squared_error: 0.9760\n",
      "Epoch 4/10\n",
      "\u001B[1m20/20\u001B[0m \u001B[32m━━━━━━━━━━━━━━━━━━━━\u001B[0m\u001B[37m\u001B[0m \u001B[1m0s\u001B[0m 640us/step - loss: 0.9522 - root_mean_squared_error: 0.9758\n",
      "Epoch 5/10\n",
      "\u001B[1m20/20\u001B[0m \u001B[32m━━━━━━━━━━━━━━━━━━━━\u001B[0m\u001B[37m\u001B[0m \u001B[1m0s\u001B[0m 686us/step - loss: 0.9460 - root_mean_squared_error: 0.9726\n",
      "Epoch 6/10\n",
      "\u001B[1m20/20\u001B[0m \u001B[32m━━━━━━━━━━━━━━━━━━━━\u001B[0m\u001B[37m\u001B[0m \u001B[1m0s\u001B[0m 641us/step - loss: 0.9180 - root_mean_squared_error: 0.9580\n",
      "Epoch 7/10\n",
      "\u001B[1m20/20\u001B[0m \u001B[32m━━━━━━━━━━━━━━━━━━━━\u001B[0m\u001B[37m\u001B[0m \u001B[1m0s\u001B[0m 667us/step - loss: 0.9505 - root_mean_squared_error: 0.9749\n",
      "Epoch 8/10\n",
      "\u001B[1m20/20\u001B[0m \u001B[32m━━━━━━━━━━━━━━━━━━━━\u001B[0m\u001B[37m\u001B[0m \u001B[1m0s\u001B[0m 716us/step - loss: 0.9349 - root_mean_squared_error: 0.9669\n",
      "Epoch 9/10\n",
      "\u001B[1m20/20\u001B[0m \u001B[32m━━━━━━━━━━━━━━━━━━━━\u001B[0m\u001B[37m\u001B[0m \u001B[1m0s\u001B[0m 706us/step - loss: 0.9462 - root_mean_squared_error: 0.9727\n",
      "Epoch 10/10\n",
      "\u001B[1m20/20\u001B[0m \u001B[32m━━━━━━━━━━━━━━━━━━━━\u001B[0m\u001B[37m\u001B[0m \u001B[1m0s\u001B[0m 690us/step - loss: 0.9396 - root_mean_squared_error: 0.9693\n"
     ]
    },
    {
     "data": {
      "text/plain": [
       "<keras.src.callbacks.history.History at 0x788add59b500>"
      ]
     },
     "execution_count": 142,
     "metadata": {},
     "output_type": "execute_result"
    }
   ],
   "execution_count": 142
  },
  {
   "metadata": {
    "ExecuteTime": {
     "end_time": "2024-11-09T13:25:00.689964Z",
     "start_time": "2024-11-09T13:25:00.586943Z"
    }
   },
   "cell_type": "code",
   "source": "mse = model.evaluate(x_test, y_test)",
   "id": "120cc49c031e8267",
   "outputs": [
    {
     "name": "stdout",
     "output_type": "stream",
     "text": [
      "WARNING:tensorflow:5 out of the last 13 calls to <function TensorFlowTrainer.make_test_function.<locals>.one_step_on_iterator at 0x788adf523f60> triggered tf.function retracing. Tracing is expensive and the excessive number of tracings could be due to (1) creating @tf.function repeatedly in a loop, (2) passing tensors with different shapes, (3) passing Python objects instead of tensors. For (1), please define your @tf.function outside of the loop. For (2), @tf.function has reduce_retracing=True option that can avoid unnecessary retracing. For (3), please refer to https://www.tensorflow.org/guide/function#controlling_retracing and https://www.tensorflow.org/api_docs/python/tf/function for  more details.\n",
      "\u001B[1m3/3\u001B[0m \u001B[32m━━━━━━━━━━━━━━━━━━━━\u001B[0m\u001B[37m\u001B[0m \u001B[1m0s\u001B[0m 2ms/step - loss: 0.9197 - root_mean_squared_error: 0.9590\n"
     ]
    }
   ],
   "execution_count": 143
  },
  {
   "metadata": {
    "ExecuteTime": {
     "end_time": "2024-11-09T13:25:03.637368Z",
     "start_time": "2024-11-09T13:25:03.634985Z"
    }
   },
   "cell_type": "code",
   "source": "print(mse)",
   "id": "42b5d02bae993665",
   "outputs": [
    {
     "name": "stdout",
     "output_type": "stream",
     "text": [
      "[0.9253731369972229, 0.9619631767272949]\n"
     ]
    }
   ],
   "execution_count": 144
  },
  {
   "metadata": {},
   "cell_type": "code",
   "outputs": [],
   "execution_count": null,
   "source": "",
   "id": "bb5f91bd4f4f8bda"
  }
 ],
 "metadata": {
  "kernelspec": {
   "display_name": "Python 3",
   "language": "python",
   "name": "python3"
  },
  "language_info": {
   "codemirror_mode": {
    "name": "ipython",
    "version": 2
   },
   "file_extension": ".py",
   "mimetype": "text/x-python",
   "name": "python",
   "nbconvert_exporter": "python",
   "pygments_lexer": "ipython2",
   "version": "2.7.6"
  }
 },
 "nbformat": 4,
 "nbformat_minor": 5
}
