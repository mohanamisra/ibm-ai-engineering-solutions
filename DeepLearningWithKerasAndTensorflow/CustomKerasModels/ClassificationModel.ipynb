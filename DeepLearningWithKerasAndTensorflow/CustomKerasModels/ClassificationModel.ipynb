{
 "cells": [
  {
   "cell_type": "code",
   "id": "initial_id",
   "metadata": {
    "collapsed": true,
    "ExecuteTime": {
     "end_time": "2024-11-09T11:24:49.462704Z",
     "start_time": "2024-11-09T11:24:49.459238Z"
    }
   },
   "source": [
    "import tensorflow as tf\n",
    "print(tf.__version__)"
   ],
   "outputs": [
    {
     "name": "stdout",
     "output_type": "stream",
     "text": [
      "2.16.1\n"
     ]
    }
   ],
   "execution_count": 77
  },
  {
   "metadata": {
    "ExecuteTime": {
     "end_time": "2024-11-09T11:24:49.608667Z",
     "start_time": "2024-11-09T11:24:49.606260Z"
    }
   },
   "cell_type": "code",
   "source": [
    "from tensorflow.keras import Layer\n",
    "from keras.api.models import Sequential"
   ],
   "id": "cbf8474b65b069ea",
   "outputs": [],
   "execution_count": 78
  },
  {
   "metadata": {
    "ExecuteTime": {
     "end_time": "2024-11-09T11:24:49.778345Z",
     "start_time": "2024-11-09T11:24:49.775099Z"
    }
   },
   "cell_type": "code",
   "source": [
    "class CustomDenseLayer(Layer):\n",
    "    def __init__(self, units=32):\n",
    "        super(CustomDenseLayer, self).__init__()\n",
    "        self.units = units\n",
    "    def build(self, input_shape):\n",
    "        self.w = self.add_weight(shape=(input_shape[-1], self.units),\n",
    "                                 initializer = 'random_normal',\n",
    "                                 trainable=True)\n",
    "        self.b = self.add_weight(shape=(self.units,),\n",
    "                                 initializer = 'zeros',\n",
    "                                 trainable=True)\n",
    "    def call(self, inputs):\n",
    "        return tf.nn.relu(tf.matmul(inputs, self.w) + self.b)"
   ],
   "id": "c2ebaf70865f56f",
   "outputs": [],
   "execution_count": 79
  },
  {
   "metadata": {
    "ExecuteTime": {
     "end_time": "2024-11-09T11:24:49.912178Z",
     "start_time": "2024-11-09T11:24:49.906710Z"
    }
   },
   "cell_type": "code",
   "source": [
    "from tensorflow.keras.layers import Dense\n",
    "\n",
    "model = Sequential([\n",
    "    CustomDenseLayer(128),\n",
    "    CustomDenseLayer(32),\n",
    "    CustomDenseLayer(8),\n",
    "    Dense(1, activation='sigmoid')\n",
    "])"
   ],
   "id": "c40f406e39c8084",
   "outputs": [],
   "execution_count": 80
  },
  {
   "metadata": {
    "ExecuteTime": {
     "end_time": "2024-11-09T11:24:50.039482Z",
     "start_time": "2024-11-09T11:24:50.034641Z"
    }
   },
   "cell_type": "code",
   "source": "model.compile(optimizer='adam', loss='binary_crossentropy', metrics=['accuracy'])",
   "id": "f428c897b12b8e7a",
   "outputs": [],
   "execution_count": 81
  },
  {
   "metadata": {
    "ExecuteTime": {
     "end_time": "2024-11-09T11:24:50.177275Z",
     "start_time": "2024-11-09T11:24:50.154881Z"
    }
   },
   "cell_type": "code",
   "source": [
    "import pandas as pd\n",
    "import numpy as np\n",
    "\n",
    "df = pd.read_csv('./heartattackprediction_classification.csv')\n",
    "print(df.shape)"
   ],
   "id": "fc8e142f282b37e7",
   "outputs": [
    {
     "name": "stdout",
     "output_type": "stream",
     "text": [
      "(8763, 26)\n"
     ]
    }
   ],
   "execution_count": 82
  },
  {
   "metadata": {
    "ExecuteTime": {
     "end_time": "2024-11-09T11:24:50.252083Z",
     "start_time": "2024-11-09T11:24:50.249522Z"
    }
   },
   "cell_type": "code",
   "source": "print(df.columns)",
   "id": "3839cd7abf6a044e",
   "outputs": [
    {
     "name": "stdout",
     "output_type": "stream",
     "text": [
      "Index(['Patient ID', 'Age', 'Sex', 'Cholesterol', 'Blood Pressure',\n",
      "       'Heart Rate', 'Diabetes', 'Family History', 'Smoking', 'Obesity',\n",
      "       'Alcohol Consumption', 'Exercise Hours Per Week', 'Diet',\n",
      "       'Previous Heart Problems', 'Medication Use', 'Stress Level',\n",
      "       'Sedentary Hours Per Day', 'Income', 'BMI', 'Triglycerides',\n",
      "       'Physical Activity Days Per Week', 'Sleep Hours Per Day', 'Country',\n",
      "       'Continent', 'Hemisphere', 'Heart Attack Risk'],\n",
      "      dtype='object')\n"
     ]
    }
   ],
   "execution_count": 83
  },
  {
   "metadata": {
    "ExecuteTime": {
     "end_time": "2024-11-09T11:24:50.359614Z",
     "start_time": "2024-11-09T11:24:50.341056Z"
    }
   },
   "cell_type": "code",
   "source": [
    "x = df.iloc[:, 1:-1]\n",
    "y = df.iloc[:, -1]\n",
    "\n",
    "from sklearn.preprocessing import LabelEncoder\n",
    "\n",
    "le = LabelEncoder()\n",
    "x['Sex'] = le.fit_transform(x['Sex'])\n",
    "x['Diet'] = le.fit_transform(x['Diet'])\n",
    "x['Country'] = le.fit_transform(x['Country'])\n",
    "x['Continent'] = le.fit_transform(x['Continent'])\n",
    "x['Hemisphere'] = le.fit_transform(x['Hemisphere'])\n",
    "x[['Systolic', 'Diastolic']] = x['Blood Pressure'].str.split('/', expand=True)\n",
    "x.drop(columns=['Blood Pressure'], inplace=True)"
   ],
   "id": "784a1f497777ace",
   "outputs": [],
   "execution_count": 84
  },
  {
   "metadata": {
    "ExecuteTime": {
     "end_time": "2024-11-09T11:24:50.508488Z",
     "start_time": "2024-11-09T11:24:50.500632Z"
    }
   },
   "cell_type": "code",
   "source": [
    "from sklearn.model_selection import train_test_split\n",
    "\n",
    "x_train, x_test, y_train, y_test = train_test_split(x, y, test_size=0.25, random_state=42)"
   ],
   "id": "f39875d2a63bba9b",
   "outputs": [],
   "execution_count": 85
  },
  {
   "metadata": {
    "ExecuteTime": {
     "end_time": "2024-11-09T11:24:50.850982Z",
     "start_time": "2024-11-09T11:24:50.837639Z"
    }
   },
   "cell_type": "code",
   "source": "x_train",
   "id": "db0be90b232760bd",
   "outputs": [
    {
     "data": {
      "text/plain": [
       "      Age  Sex  Cholesterol  Heart Rate  Diabetes  Family History  Smoking  \\\n",
       "2251   78    0          315          45         1               0        1   \n",
       "3662   84    1          347          99         1               0        1   \n",
       "208    24    0          152          44         1               1        0   \n",
       "2227   50    1          227          95         0               0        1   \n",
       "798    22    1          163          47         1               0        1   \n",
       "...   ...  ...          ...         ...       ...             ...      ...   \n",
       "5734   48    1          334          43         1               0        1   \n",
       "5191   68    0          188          69         0               0        1   \n",
       "5390   32    0          169          84         1               0        0   \n",
       "860    85    0          285          54         1               1        1   \n",
       "7270   89    1          240          53         1               1        1   \n",
       "\n",
       "      Obesity  Alcohol Consumption  Exercise Hours Per Week  ...  Income  \\\n",
       "2251        1                    1                 8.054107  ...  276094   \n",
       "3662        0                    0                 2.829251  ...  116849   \n",
       "208         0                    1                15.482946  ...   50437   \n",
       "2227        1                    0                 0.733570  ...  132653   \n",
       "798         0                    1                10.073059  ...  234255   \n",
       "...       ...                  ...                      ...  ...     ...   \n",
       "5734        1                    0                15.423465  ...   59858   \n",
       "5191        0                    1                11.689453  ...   60332   \n",
       "5390        1                    0                11.639443  ...   67604   \n",
       "860         1                    1                11.070968  ...  138980   \n",
       "7270        0                    0                 6.651998  ...  120005   \n",
       "\n",
       "            BMI  Triglycerides  Physical Activity Days Per Week  \\\n",
       "2251  28.170032            165                                6   \n",
       "3662  37.112647             35                                6   \n",
       "208   37.565052            521                                5   \n",
       "2227  22.253203             34                                5   \n",
       "798   25.662052            737                                3   \n",
       "...         ...            ...                              ...   \n",
       "5734  33.549888            549                                4   \n",
       "5191  26.142883            410                                2   \n",
       "5390  39.512660            777                                4   \n",
       "860   25.499506            552                                1   \n",
       "7270  35.195328            619                                0   \n",
       "\n",
       "      Sleep Hours Per Day  Country  Continent  Hemisphere  Systolic  Diastolic  \n",
       "2251                    9        9          3           1       161         91  \n",
       "3662                    9       11          2           1       127        101  \n",
       "208                     8        3          4           0       103         82  \n",
       "2227                    8        5          5           0       120         82  \n",
       "798                     4        6          3           0       104         90  \n",
       "...                   ...      ...        ...         ...       ...        ...  \n",
       "5734                    4       13          0           1        94         82  \n",
       "5191                    9       16          1           0       116         70  \n",
       "5390                    9       12          0           0       156         79  \n",
       "860                    10       12          0           0       165         73  \n",
       "7270                    7       17          3           0       101         94  \n",
       "\n",
       "[6572 rows x 25 columns]"
      ],
      "text/html": [
       "<div>\n",
       "<style scoped>\n",
       "    .dataframe tbody tr th:only-of-type {\n",
       "        vertical-align: middle;\n",
       "    }\n",
       "\n",
       "    .dataframe tbody tr th {\n",
       "        vertical-align: top;\n",
       "    }\n",
       "\n",
       "    .dataframe thead th {\n",
       "        text-align: right;\n",
       "    }\n",
       "</style>\n",
       "<table border=\"1\" class=\"dataframe\">\n",
       "  <thead>\n",
       "    <tr style=\"text-align: right;\">\n",
       "      <th></th>\n",
       "      <th>Age</th>\n",
       "      <th>Sex</th>\n",
       "      <th>Cholesterol</th>\n",
       "      <th>Heart Rate</th>\n",
       "      <th>Diabetes</th>\n",
       "      <th>Family History</th>\n",
       "      <th>Smoking</th>\n",
       "      <th>Obesity</th>\n",
       "      <th>Alcohol Consumption</th>\n",
       "      <th>Exercise Hours Per Week</th>\n",
       "      <th>...</th>\n",
       "      <th>Income</th>\n",
       "      <th>BMI</th>\n",
       "      <th>Triglycerides</th>\n",
       "      <th>Physical Activity Days Per Week</th>\n",
       "      <th>Sleep Hours Per Day</th>\n",
       "      <th>Country</th>\n",
       "      <th>Continent</th>\n",
       "      <th>Hemisphere</th>\n",
       "      <th>Systolic</th>\n",
       "      <th>Diastolic</th>\n",
       "    </tr>\n",
       "  </thead>\n",
       "  <tbody>\n",
       "    <tr>\n",
       "      <th>2251</th>\n",
       "      <td>78</td>\n",
       "      <td>0</td>\n",
       "      <td>315</td>\n",
       "      <td>45</td>\n",
       "      <td>1</td>\n",
       "      <td>0</td>\n",
       "      <td>1</td>\n",
       "      <td>1</td>\n",
       "      <td>1</td>\n",
       "      <td>8.054107</td>\n",
       "      <td>...</td>\n",
       "      <td>276094</td>\n",
       "      <td>28.170032</td>\n",
       "      <td>165</td>\n",
       "      <td>6</td>\n",
       "      <td>9</td>\n",
       "      <td>9</td>\n",
       "      <td>3</td>\n",
       "      <td>1</td>\n",
       "      <td>161</td>\n",
       "      <td>91</td>\n",
       "    </tr>\n",
       "    <tr>\n",
       "      <th>3662</th>\n",
       "      <td>84</td>\n",
       "      <td>1</td>\n",
       "      <td>347</td>\n",
       "      <td>99</td>\n",
       "      <td>1</td>\n",
       "      <td>0</td>\n",
       "      <td>1</td>\n",
       "      <td>0</td>\n",
       "      <td>0</td>\n",
       "      <td>2.829251</td>\n",
       "      <td>...</td>\n",
       "      <td>116849</td>\n",
       "      <td>37.112647</td>\n",
       "      <td>35</td>\n",
       "      <td>6</td>\n",
       "      <td>9</td>\n",
       "      <td>11</td>\n",
       "      <td>2</td>\n",
       "      <td>1</td>\n",
       "      <td>127</td>\n",
       "      <td>101</td>\n",
       "    </tr>\n",
       "    <tr>\n",
       "      <th>208</th>\n",
       "      <td>24</td>\n",
       "      <td>0</td>\n",
       "      <td>152</td>\n",
       "      <td>44</td>\n",
       "      <td>1</td>\n",
       "      <td>1</td>\n",
       "      <td>0</td>\n",
       "      <td>0</td>\n",
       "      <td>1</td>\n",
       "      <td>15.482946</td>\n",
       "      <td>...</td>\n",
       "      <td>50437</td>\n",
       "      <td>37.565052</td>\n",
       "      <td>521</td>\n",
       "      <td>5</td>\n",
       "      <td>8</td>\n",
       "      <td>3</td>\n",
       "      <td>4</td>\n",
       "      <td>0</td>\n",
       "      <td>103</td>\n",
       "      <td>82</td>\n",
       "    </tr>\n",
       "    <tr>\n",
       "      <th>2227</th>\n",
       "      <td>50</td>\n",
       "      <td>1</td>\n",
       "      <td>227</td>\n",
       "      <td>95</td>\n",
       "      <td>0</td>\n",
       "      <td>0</td>\n",
       "      <td>1</td>\n",
       "      <td>1</td>\n",
       "      <td>0</td>\n",
       "      <td>0.733570</td>\n",
       "      <td>...</td>\n",
       "      <td>132653</td>\n",
       "      <td>22.253203</td>\n",
       "      <td>34</td>\n",
       "      <td>5</td>\n",
       "      <td>8</td>\n",
       "      <td>5</td>\n",
       "      <td>5</td>\n",
       "      <td>0</td>\n",
       "      <td>120</td>\n",
       "      <td>82</td>\n",
       "    </tr>\n",
       "    <tr>\n",
       "      <th>798</th>\n",
       "      <td>22</td>\n",
       "      <td>1</td>\n",
       "      <td>163</td>\n",
       "      <td>47</td>\n",
       "      <td>1</td>\n",
       "      <td>0</td>\n",
       "      <td>1</td>\n",
       "      <td>0</td>\n",
       "      <td>1</td>\n",
       "      <td>10.073059</td>\n",
       "      <td>...</td>\n",
       "      <td>234255</td>\n",
       "      <td>25.662052</td>\n",
       "      <td>737</td>\n",
       "      <td>3</td>\n",
       "      <td>4</td>\n",
       "      <td>6</td>\n",
       "      <td>3</td>\n",
       "      <td>0</td>\n",
       "      <td>104</td>\n",
       "      <td>90</td>\n",
       "    </tr>\n",
       "    <tr>\n",
       "      <th>...</th>\n",
       "      <td>...</td>\n",
       "      <td>...</td>\n",
       "      <td>...</td>\n",
       "      <td>...</td>\n",
       "      <td>...</td>\n",
       "      <td>...</td>\n",
       "      <td>...</td>\n",
       "      <td>...</td>\n",
       "      <td>...</td>\n",
       "      <td>...</td>\n",
       "      <td>...</td>\n",
       "      <td>...</td>\n",
       "      <td>...</td>\n",
       "      <td>...</td>\n",
       "      <td>...</td>\n",
       "      <td>...</td>\n",
       "      <td>...</td>\n",
       "      <td>...</td>\n",
       "      <td>...</td>\n",
       "      <td>...</td>\n",
       "      <td>...</td>\n",
       "    </tr>\n",
       "    <tr>\n",
       "      <th>5734</th>\n",
       "      <td>48</td>\n",
       "      <td>1</td>\n",
       "      <td>334</td>\n",
       "      <td>43</td>\n",
       "      <td>1</td>\n",
       "      <td>0</td>\n",
       "      <td>1</td>\n",
       "      <td>1</td>\n",
       "      <td>0</td>\n",
       "      <td>15.423465</td>\n",
       "      <td>...</td>\n",
       "      <td>59858</td>\n",
       "      <td>33.549888</td>\n",
       "      <td>549</td>\n",
       "      <td>4</td>\n",
       "      <td>4</td>\n",
       "      <td>13</td>\n",
       "      <td>0</td>\n",
       "      <td>1</td>\n",
       "      <td>94</td>\n",
       "      <td>82</td>\n",
       "    </tr>\n",
       "    <tr>\n",
       "      <th>5191</th>\n",
       "      <td>68</td>\n",
       "      <td>0</td>\n",
       "      <td>188</td>\n",
       "      <td>69</td>\n",
       "      <td>0</td>\n",
       "      <td>0</td>\n",
       "      <td>1</td>\n",
       "      <td>0</td>\n",
       "      <td>1</td>\n",
       "      <td>11.689453</td>\n",
       "      <td>...</td>\n",
       "      <td>60332</td>\n",
       "      <td>26.142883</td>\n",
       "      <td>410</td>\n",
       "      <td>2</td>\n",
       "      <td>9</td>\n",
       "      <td>16</td>\n",
       "      <td>1</td>\n",
       "      <td>0</td>\n",
       "      <td>116</td>\n",
       "      <td>70</td>\n",
       "    </tr>\n",
       "    <tr>\n",
       "      <th>5390</th>\n",
       "      <td>32</td>\n",
       "      <td>0</td>\n",
       "      <td>169</td>\n",
       "      <td>84</td>\n",
       "      <td>1</td>\n",
       "      <td>0</td>\n",
       "      <td>0</td>\n",
       "      <td>1</td>\n",
       "      <td>0</td>\n",
       "      <td>11.639443</td>\n",
       "      <td>...</td>\n",
       "      <td>67604</td>\n",
       "      <td>39.512660</td>\n",
       "      <td>777</td>\n",
       "      <td>4</td>\n",
       "      <td>9</td>\n",
       "      <td>12</td>\n",
       "      <td>0</td>\n",
       "      <td>0</td>\n",
       "      <td>156</td>\n",
       "      <td>79</td>\n",
       "    </tr>\n",
       "    <tr>\n",
       "      <th>860</th>\n",
       "      <td>85</td>\n",
       "      <td>0</td>\n",
       "      <td>285</td>\n",
       "      <td>54</td>\n",
       "      <td>1</td>\n",
       "      <td>1</td>\n",
       "      <td>1</td>\n",
       "      <td>1</td>\n",
       "      <td>1</td>\n",
       "      <td>11.070968</td>\n",
       "      <td>...</td>\n",
       "      <td>138980</td>\n",
       "      <td>25.499506</td>\n",
       "      <td>552</td>\n",
       "      <td>1</td>\n",
       "      <td>10</td>\n",
       "      <td>12</td>\n",
       "      <td>0</td>\n",
       "      <td>0</td>\n",
       "      <td>165</td>\n",
       "      <td>73</td>\n",
       "    </tr>\n",
       "    <tr>\n",
       "      <th>7270</th>\n",
       "      <td>89</td>\n",
       "      <td>1</td>\n",
       "      <td>240</td>\n",
       "      <td>53</td>\n",
       "      <td>1</td>\n",
       "      <td>1</td>\n",
       "      <td>1</td>\n",
       "      <td>0</td>\n",
       "      <td>0</td>\n",
       "      <td>6.651998</td>\n",
       "      <td>...</td>\n",
       "      <td>120005</td>\n",
       "      <td>35.195328</td>\n",
       "      <td>619</td>\n",
       "      <td>0</td>\n",
       "      <td>7</td>\n",
       "      <td>17</td>\n",
       "      <td>3</td>\n",
       "      <td>0</td>\n",
       "      <td>101</td>\n",
       "      <td>94</td>\n",
       "    </tr>\n",
       "  </tbody>\n",
       "</table>\n",
       "<p>6572 rows × 25 columns</p>\n",
       "</div>"
      ]
     },
     "execution_count": 86,
     "metadata": {},
     "output_type": "execute_result"
    }
   ],
   "execution_count": 86
  },
  {
   "metadata": {
    "ExecuteTime": {
     "end_time": "2024-11-09T11:24:51.231539Z",
     "start_time": "2024-11-09T11:24:51.202397Z"
    }
   },
   "cell_type": "code",
   "source": "model.build((None, x_train.shape[1]))",
   "id": "826afbafb588d3c3",
   "outputs": [],
   "execution_count": 87
  },
  {
   "metadata": {
    "ExecuteTime": {
     "end_time": "2024-11-09T11:24:54.354479Z",
     "start_time": "2024-11-09T11:24:51.838794Z"
    }
   },
   "cell_type": "code",
   "source": "model.fit(x_train, y_train, epochs = 10, batch_size=32)",
   "id": "495f9dc878945c97",
   "outputs": [
    {
     "name": "stdout",
     "output_type": "stream",
     "text": [
      "Epoch 1/10\n",
      "\u001B[1m206/206\u001B[0m \u001B[32m━━━━━━━━━━━━━━━━━━━━\u001B[0m\u001B[37m\u001B[0m \u001B[1m1s\u001B[0m 585us/step - accuracy: 0.5701 - loss: 17.5694\n",
      "Epoch 2/10\n",
      "\u001B[1m206/206\u001B[0m \u001B[32m━━━━━━━━━━━━━━━━━━━━\u001B[0m\u001B[37m\u001B[0m \u001B[1m0s\u001B[0m 578us/step - accuracy: 0.5318 - loss: 5.1953\n",
      "Epoch 3/10\n",
      "\u001B[1m206/206\u001B[0m \u001B[32m━━━━━━━━━━━━━━━━━━━━\u001B[0m\u001B[37m\u001B[0m \u001B[1m0s\u001B[0m 558us/step - accuracy: 0.5442 - loss: 3.4945\n",
      "Epoch 4/10\n",
      "\u001B[1m206/206\u001B[0m \u001B[32m━━━━━━━━━━━━━━━━━━━━\u001B[0m\u001B[37m\u001B[0m \u001B[1m0s\u001B[0m 591us/step - accuracy: 0.5655 - loss: 1.1087\n",
      "Epoch 5/10\n",
      "\u001B[1m206/206\u001B[0m \u001B[32m━━━━━━━━━━━━━━━━━━━━\u001B[0m\u001B[37m\u001B[0m \u001B[1m0s\u001B[0m 563us/step - accuracy: 0.5590 - loss: 1.0789\n",
      "Epoch 6/10\n",
      "\u001B[1m206/206\u001B[0m \u001B[32m━━━━━━━━━━━━━━━━━━━━\u001B[0m\u001B[37m\u001B[0m \u001B[1m0s\u001B[0m 616us/step - accuracy: 0.5566 - loss: 1.3983\n",
      "Epoch 7/10\n",
      "\u001B[1m206/206\u001B[0m \u001B[32m━━━━━━━━━━━━━━━━━━━━\u001B[0m\u001B[37m\u001B[0m \u001B[1m0s\u001B[0m 553us/step - accuracy: 0.5671 - loss: 0.8906\n",
      "Epoch 8/10\n",
      "\u001B[1m206/206\u001B[0m \u001B[32m━━━━━━━━━━━━━━━━━━━━\u001B[0m\u001B[37m\u001B[0m \u001B[1m0s\u001B[0m 581us/step - accuracy: 0.5701 - loss: 0.9930\n",
      "Epoch 9/10\n",
      "\u001B[1m206/206\u001B[0m \u001B[32m━━━━━━━━━━━━━━━━━━━━\u001B[0m\u001B[37m\u001B[0m \u001B[1m0s\u001B[0m 579us/step - accuracy: 0.5686 - loss: 0.8503\n",
      "Epoch 10/10\n",
      "\u001B[1m206/206\u001B[0m \u001B[32m━━━━━━━━━━━━━━━━━━━━\u001B[0m\u001B[37m\u001B[0m \u001B[1m0s\u001B[0m 640us/step - accuracy: 0.5888 - loss: 0.7179\n"
     ]
    },
    {
     "data": {
      "text/plain": [
       "<keras.src.callbacks.history.History at 0x7d8bc4e0edb0>"
      ]
     },
     "execution_count": 88,
     "metadata": {},
     "output_type": "execute_result"
    }
   ],
   "execution_count": 88
  },
  {
   "metadata": {
    "ExecuteTime": {
     "end_time": "2024-11-09T11:25:57.423327Z",
     "start_time": "2024-11-09T11:25:57.287818Z"
    }
   },
   "cell_type": "code",
   "source": "loss, accuracy = model.evaluate(x_test, y_test, batch_size=32)",
   "id": "29246f6537eba038",
   "outputs": [
    {
     "name": "stdout",
     "output_type": "stream",
     "text": [
      "\u001B[1m69/69\u001B[0m \u001B[32m━━━━━━━━━━━━━━━━━━━━\u001B[0m\u001B[37m\u001B[0m \u001B[1m0s\u001B[0m 470us/step - accuracy: 0.6429 - loss: 0.6545\n"
     ]
    }
   ],
   "execution_count": 89
  },
  {
   "metadata": {
    "ExecuteTime": {
     "end_time": "2024-11-09T11:26:00.522869Z",
     "start_time": "2024-11-09T11:26:00.520474Z"
    }
   },
   "cell_type": "code",
   "source": "print(accuracy)",
   "id": "ecd20e5ba5d0ac62",
   "outputs": [
    {
     "name": "stdout",
     "output_type": "stream",
     "text": [
      "0.6458238363265991\n"
     ]
    }
   ],
   "execution_count": 90
  },
  {
   "metadata": {},
   "cell_type": "code",
   "outputs": [],
   "execution_count": null,
   "source": "",
   "id": "d7359b2923c6d2cd"
  }
 ],
 "metadata": {
  "kernelspec": {
   "display_name": "Python 3",
   "language": "python",
   "name": "python3"
  },
  "language_info": {
   "codemirror_mode": {
    "name": "ipython",
    "version": 2
   },
   "file_extension": ".py",
   "mimetype": "text/x-python",
   "name": "python",
   "nbconvert_exporter": "python",
   "pygments_lexer": "ipython2",
   "version": "2.7.6"
  }
 },
 "nbformat": 4,
 "nbformat_minor": 5
}
