{
 "cells": [
  {
   "cell_type": "code",
   "id": "initial_id",
   "metadata": {
    "collapsed": true,
    "ExecuteTime": {
     "end_time": "2024-11-04T04:55:17.691606Z",
     "start_time": "2024-11-04T04:55:17.686673Z"
    }
   },
   "source": [
    "import numpy as np\n",
    "import pandas as pd\n",
    "import matplotlib.pyplot as plt\n",
    "\n",
    "import keras\n",
    "from keras.api.models import Sequential\n",
    "from keras.api.layers import Dense\n",
    "from keras.api.utils import to_categorical\n",
    "from keras.api.layers import Conv2D, MaxPooling2D, Flatten, Dropout\n",
    "\n",
    "import warnings\n",
    "warnings.filterwarnings('ignore')"
   ],
   "outputs": [],
   "execution_count": 24
  },
  {
   "metadata": {
    "ExecuteTime": {
     "end_time": "2024-11-04T04:55:18.563498Z",
     "start_time": "2024-11-04T04:55:18.201139Z"
    }
   },
   "cell_type": "code",
   "source": [
    "from keras.api.datasets import mnist\n",
    "\n",
    "(x_train, y_train), (x_test, y_test) = mnist.load_data()\n",
    "x_train = x_train.reshape(x_train.shape[0], 28, 28, 1).astype('float32')\n",
    "x_test = x_test.reshape(x_test.shape[0], 28, 28, 1).astype('float32')"
   ],
   "id": "acce4ce066137042",
   "outputs": [],
   "execution_count": 25
  },
  {
   "metadata": {
    "ExecuteTime": {
     "end_time": "2024-11-04T04:55:19.310338Z",
     "start_time": "2024-11-04T04:55:19.231996Z"
    }
   },
   "cell_type": "code",
   "source": [
    "x_train = x_train / 255\n",
    "x_test = x_test / 255"
   ],
   "id": "d833573da463667b",
   "outputs": [],
   "execution_count": 26
  },
  {
   "metadata": {
    "ExecuteTime": {
     "end_time": "2024-11-04T04:55:20.410196Z",
     "start_time": "2024-11-04T04:55:20.403144Z"
    }
   },
   "cell_type": "code",
   "source": [
    "y_train = to_categorical(y_train)\n",
    "y_test = to_categorical(y_test)\n",
    "num_classes = y_test.shape[1]"
   ],
   "id": "90ad0a61c75551d3",
   "outputs": [],
   "execution_count": 27
  },
  {
   "metadata": {
    "ExecuteTime": {
     "end_time": "2024-11-04T04:55:21.134419Z",
     "start_time": "2024-11-04T04:55:21.128645Z"
    }
   },
   "cell_type": "code",
   "source": [
    "def cnn():\n",
    "    model = Sequential()\n",
    "    model.add(Conv2D(16, (5, 5), strides=(1, 1), activation='relu', input_shape=(28, 28, 1)))\n",
    "    model.add(MaxPooling2D(pool_size=(2, 2), strides=(2, 2)))\n",
    "    \n",
    "    model.add(Flatten())\n",
    "    model.add(Dense(100, activation='relu'))\n",
    "    model.add(Dense(num_classes, activation='softmax'))\n",
    "    \n",
    "    model.compile(optimizer='adam', loss='categorical_crossentropy', metrics=['accuracy'])\n",
    "    return model"
   ],
   "id": "45110ae535f3c421",
   "outputs": [],
   "execution_count": 28
  },
  {
   "metadata": {
    "ExecuteTime": {
     "end_time": "2024-11-04T04:56:08.006255Z",
     "start_time": "2024-11-04T04:55:22.041623Z"
    }
   },
   "cell_type": "code",
   "source": [
    "model = cnn()\n",
    "model.fit(x_train, y_train, validation_data=(x_test, y_test), epochs=10, batch_size=200, verbose=2)\n",
    "\n",
    "scores = model.evaluate(x_test, y_test, verbose=0)\n",
    "print(scores[1])"
   ],
   "id": "e912da9e620152c4",
   "outputs": [
    {
     "name": "stdout",
     "output_type": "stream",
     "text": [
      "Epoch 1/10\n",
      "300/300 - 7s - 23ms/step - accuracy: 0.9207 - loss: 0.2896 - val_accuracy: 0.9729 - val_loss: 0.0910\n",
      "Epoch 2/10\n",
      "300/300 - 5s - 16ms/step - accuracy: 0.9757 - loss: 0.0825 - val_accuracy: 0.9820 - val_loss: 0.0620\n",
      "Epoch 3/10\n",
      "300/300 - 4s - 14ms/step - accuracy: 0.9829 - loss: 0.0578 - val_accuracy: 0.9837 - val_loss: 0.0486\n",
      "Epoch 4/10\n",
      "300/300 - 4s - 14ms/step - accuracy: 0.9867 - loss: 0.0446 - val_accuracy: 0.9827 - val_loss: 0.0518\n",
      "Epoch 5/10\n",
      "300/300 - 4s - 14ms/step - accuracy: 0.9888 - loss: 0.0368 - val_accuracy: 0.9851 - val_loss: 0.0449\n",
      "Epoch 6/10\n",
      "300/300 - 4s - 14ms/step - accuracy: 0.9908 - loss: 0.0297 - val_accuracy: 0.9873 - val_loss: 0.0373\n",
      "Epoch 7/10\n",
      "300/300 - 4s - 14ms/step - accuracy: 0.9929 - loss: 0.0251 - val_accuracy: 0.9878 - val_loss: 0.0377\n",
      "Epoch 8/10\n",
      "300/300 - 4s - 14ms/step - accuracy: 0.9936 - loss: 0.0211 - val_accuracy: 0.9872 - val_loss: 0.0409\n",
      "Epoch 9/10\n",
      "300/300 - 4s - 14ms/step - accuracy: 0.9948 - loss: 0.0171 - val_accuracy: 0.9865 - val_loss: 0.0411\n",
      "Epoch 10/10\n",
      "300/300 - 4s - 13ms/step - accuracy: 0.9959 - loss: 0.0144 - val_accuracy: 0.9875 - val_loss: 0.0389\n",
      "0.987500011920929\n"
     ]
    }
   ],
   "execution_count": 29
  },
  {
   "metadata": {
    "ExecuteTime": {
     "end_time": "2024-11-04T05:02:22.916198Z",
     "start_time": "2024-11-04T05:02:22.912807Z"
    }
   },
   "cell_type": "code",
   "source": [
    "def big_cnn():\n",
    "    model = Sequential()\n",
    "    \n",
    "    model.add(Conv2D(16, (5, 5), strides=(1, 1), activation='relu', input_shape=(28, 28, 1)))\n",
    "    model.add(MaxPooling2D(pool_size=(2, 2), strides=(2, 2)))\n",
    "    \n",
    "    model.add(Conv2D(32, (5, 5), strides=(1, 1), activation='relu'))\n",
    "    model.add(MaxPooling2D(pool_size=(2, 2), strides=(2, 2)))\n",
    "    \n",
    "    model.add(Flatten())\n",
    "    model.add(Dense(100, activation='relu'))\n",
    "    model.add(Dense(num_classes, activation='softmax'))\n",
    "    \n",
    "    model.compile(optimizer='adam', loss='categorical_crossentropy', metrics=['accuracy'])\n",
    "    return model"
   ],
   "id": "5ddee36dce840585",
   "outputs": [],
   "execution_count": 30
  },
  {
   "metadata": {
    "ExecuteTime": {
     "end_time": "2024-11-04T05:03:59.640591Z",
     "start_time": "2024-11-04T05:02:44.760375Z"
    }
   },
   "cell_type": "code",
   "source": [
    "model = big_cnn()\n",
    "model.fit(x_train, y_train, validation_data=(x_test, y_test), epochs=10, batch_size=200, verbose=2)\n",
    "scores = model.evaluate(x_test, y_test, verbose=0)\n",
    "print(scores[1])"
   ],
   "id": "7eacea931e2a91e2",
   "outputs": [
    {
     "name": "stdout",
     "output_type": "stream",
     "text": [
      "Epoch 1/10\n",
      "300/300 - 9s - 29ms/step - accuracy: 0.9172 - loss: 0.2981 - val_accuracy: 0.9761 - val_loss: 0.0802\n",
      "Epoch 2/10\n",
      "300/300 - 8s - 27ms/step - accuracy: 0.9775 - loss: 0.0748 - val_accuracy: 0.9842 - val_loss: 0.0525\n",
      "Epoch 3/10\n",
      "300/300 - 7s - 23ms/step - accuracy: 0.9836 - loss: 0.0539 - val_accuracy: 0.9844 - val_loss: 0.0485\n",
      "Epoch 4/10\n",
      "300/300 - 7s - 24ms/step - accuracy: 0.9866 - loss: 0.0430 - val_accuracy: 0.9886 - val_loss: 0.0355\n",
      "Epoch 5/10\n",
      "300/300 - 8s - 25ms/step - accuracy: 0.9891 - loss: 0.0348 - val_accuracy: 0.9882 - val_loss: 0.0336\n",
      "Epoch 6/10\n",
      "300/300 - 7s - 25ms/step - accuracy: 0.9912 - loss: 0.0297 - val_accuracy: 0.9886 - val_loss: 0.0336\n",
      "Epoch 7/10\n",
      "300/300 - 7s - 23ms/step - accuracy: 0.9923 - loss: 0.0246 - val_accuracy: 0.9904 - val_loss: 0.0293\n",
      "Epoch 8/10\n",
      "300/300 - 7s - 23ms/step - accuracy: 0.9931 - loss: 0.0219 - val_accuracy: 0.9902 - val_loss: 0.0299\n",
      "Epoch 9/10\n",
      "300/300 - 7s - 23ms/step - accuracy: 0.9943 - loss: 0.0183 - val_accuracy: 0.9912 - val_loss: 0.0304\n",
      "Epoch 10/10\n",
      "300/300 - 7s - 24ms/step - accuracy: 0.9941 - loss: 0.0182 - val_accuracy: 0.9900 - val_loss: 0.0303\n",
      "0.9900000095367432\n"
     ]
    }
   ],
   "execution_count": 31
  },
  {
   "metadata": {},
   "cell_type": "code",
   "outputs": [],
   "execution_count": null,
   "source": "",
   "id": "21c0dc07f3f9a578"
  }
 ],
 "metadata": {
  "kernelspec": {
   "display_name": "Python 3",
   "language": "python",
   "name": "python3"
  },
  "language_info": {
   "codemirror_mode": {
    "name": "ipython",
    "version": 2
   },
   "file_extension": ".py",
   "mimetype": "text/x-python",
   "name": "python",
   "nbconvert_exporter": "python",
   "pygments_lexer": "ipython2",
   "version": "2.7.6"
  }
 },
 "nbformat": 4,
 "nbformat_minor": 5
}
