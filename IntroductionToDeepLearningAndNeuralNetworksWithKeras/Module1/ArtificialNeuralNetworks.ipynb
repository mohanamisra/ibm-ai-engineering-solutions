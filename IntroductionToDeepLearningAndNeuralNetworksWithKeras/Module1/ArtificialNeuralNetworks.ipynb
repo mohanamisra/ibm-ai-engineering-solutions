{
 "cells": [
  {
   "cell_type": "code",
   "id": "initial_id",
   "metadata": {
    "collapsed": true,
    "ExecuteTime": {
     "end_time": "2024-11-02T07:00:55.052872Z",
     "start_time": "2024-11-02T07:00:54.916663Z"
    }
   },
   "source": [
    "import numpy as np\n",
    "\n",
    "weights = np.around(np.random.uniform(size=6), decimals=2)\n",
    "biases = np.around(np.random.uniform(size=3), decimals=2)"
   ],
   "outputs": [],
   "execution_count": 2
  },
  {
   "metadata": {
    "ExecuteTime": {
     "end_time": "2024-11-02T07:01:15.165527Z",
     "start_time": "2024-11-02T07:01:15.162702Z"
    }
   },
   "cell_type": "code",
   "source": [
    "x1 = 0.5\n",
    "x2 = 0.85\n",
    "\n",
    "print(x1, x2)"
   ],
   "id": "5389d24461f20b3a",
   "outputs": [
    {
     "name": "stdout",
     "output_type": "stream",
     "text": [
      "0.5 0.85\n"
     ]
    }
   ],
   "execution_count": 3
  },
  {
   "metadata": {
    "ExecuteTime": {
     "end_time": "2024-11-02T07:02:34.011593Z",
     "start_time": "2024-11-02T07:02:34.008761Z"
    }
   },
   "cell_type": "code",
   "source": [
    "z11 = x1 * weights[0] + x2 * weights[1] + biases[0]\n",
    "\n",
    "print(z11)"
   ],
   "id": "95c3374d11ba3fb",
   "outputs": [
    {
     "name": "stdout",
     "output_type": "stream",
     "text": [
      "0.48350000000000004\n"
     ]
    }
   ],
   "execution_count": 4
  },
  {
   "metadata": {
    "ExecuteTime": {
     "end_time": "2024-11-02T07:03:07.512451Z",
     "start_time": "2024-11-02T07:03:07.510179Z"
    }
   },
   "cell_type": "code",
   "source": [
    "z12 = x1 * weights[2] + x2 * weights[3] + biases[1]\n",
    "\n",
    "print(z12)"
   ],
   "id": "44dd054114ef7ffa",
   "outputs": [
    {
     "name": "stdout",
     "output_type": "stream",
     "text": [
      "1.067\n"
     ]
    }
   ],
   "execution_count": 5
  },
  {
   "metadata": {
    "ExecuteTime": {
     "end_time": "2024-11-02T07:03:30.670046Z",
     "start_time": "2024-11-02T07:03:30.667558Z"
    }
   },
   "cell_type": "code",
   "source": [
    "print(weights)\n",
    "print(biases)"
   ],
   "id": "7913d58e1c073cdd",
   "outputs": [
    {
     "name": "stdout",
     "output_type": "stream",
     "text": [
      "[0.24 0.11 0.45 0.32 0.1  0.45]\n",
      "[0.27 0.57 0.16]\n"
     ]
    }
   ],
   "execution_count": 6
  },
  {
   "metadata": {
    "ExecuteTime": {
     "end_time": "2024-11-02T07:04:27.339295Z",
     "start_time": "2024-11-02T07:04:27.336970Z"
    }
   },
   "cell_type": "code",
   "source": [
    "a11 = 1.0/(1.0 + np.exp(-z11))\n",
    "\n",
    "print(a11)"
   ],
   "id": "dc8547f74f30b304",
   "outputs": [
    {
     "name": "stdout",
     "output_type": "stream",
     "text": [
      "0.6185740074950563\n"
     ]
    }
   ],
   "execution_count": 7
  },
  {
   "metadata": {
    "ExecuteTime": {
     "end_time": "2024-11-02T07:04:42.042912Z",
     "start_time": "2024-11-02T07:04:42.039646Z"
    }
   },
   "cell_type": "code",
   "source": [
    "a12 = 1.0/(1.0 + np.exp(-z12))\n",
    "\n",
    "print(a12)"
   ],
   "id": "a7155b5a0236c3be",
   "outputs": [
    {
     "name": "stdout",
     "output_type": "stream",
     "text": [
      "0.7440259802621393\n"
     ]
    }
   ],
   "execution_count": 8
  },
  {
   "metadata": {
    "ExecuteTime": {
     "end_time": "2024-11-02T07:05:19.738131Z",
     "start_time": "2024-11-02T07:05:19.735416Z"
    }
   },
   "cell_type": "code",
   "source": [
    "z2 = a11 * weights[4] + a12 * weights[5] + biases[2]\n",
    "\n",
    "print(z2)"
   ],
   "id": "c5d4b9f488b2c16f",
   "outputs": [
    {
     "name": "stdout",
     "output_type": "stream",
     "text": [
      "0.5566690918674683\n"
     ]
    }
   ],
   "execution_count": 9
  },
  {
   "metadata": {
    "ExecuteTime": {
     "end_time": "2024-11-02T07:06:25.689282Z",
     "start_time": "2024-11-02T07:06:25.686835Z"
    }
   },
   "cell_type": "code",
   "source": [
    "a2 = 1.0/(1.0 + np.exp(-z2))\n",
    "\n",
    "print(f'FINAL PREDICTION OF NEURAL NETWORK: {a2:.4f}')"
   ],
   "id": "582219c72fd4add3",
   "outputs": [
    {
     "name": "stdout",
     "output_type": "stream",
     "text": [
      "FINAL PREDICTION OF NEURAL NETWORK: 0.6357\n"
     ]
    }
   ],
   "execution_count": 13
  },
  {
   "metadata": {
    "ExecuteTime": {
     "end_time": "2024-11-02T07:07:29.182766Z",
     "start_time": "2024-11-02T07:07:29.180501Z"
    }
   },
   "cell_type": "code",
   "source": [
    "n = 2 # number of inputs\n",
    "num_hidden_layers = 2 # number of hidden layers\n",
    "m = [2, 2] # number of nodes in each hidden layer\n",
    "num_nodes_output = 1 # number of nodes in the output layer"
   ],
   "id": "cce394299abe7d53",
   "outputs": [],
   "execution_count": 14
  },
  {
   "metadata": {
    "ExecuteTime": {
     "end_time": "2024-11-02T07:10:24.131048Z",
     "start_time": "2024-11-02T07:10:24.126167Z"
    }
   },
   "cell_type": "code",
   "source": [
    "def initialize_network(num_inputs, num_hidden_layers, num_nodes_hidden, num_nodes_output):\n",
    "    \n",
    "    num_nodes_previous = num_inputs # number of nodes in the previous layer\n",
    "\n",
    "    network = {}\n",
    "    \n",
    "    # loop through each layer and randomly initialize the weights and biases associated with each layer\n",
    "    for layer in range(num_hidden_layers + 1):\n",
    "        \n",
    "        if layer == num_hidden_layers:\n",
    "            layer_name = 'output' # name last layer in the network output\n",
    "            num_nodes = num_nodes_output\n",
    "        else:\n",
    "            layer_name = 'layer_{}'.format(layer + 1) # otherwise give the layer a number\n",
    "            num_nodes = num_nodes_hidden[layer] \n",
    "        \n",
    "        # initialize weights and bias for each node\n",
    "        network[layer_name] = {}\n",
    "        for node in range(num_nodes):\n",
    "            node_name = 'node_{}'.format(node+1)\n",
    "            network[layer_name][node_name] = {\n",
    "                'weights': np.around(np.random.uniform(size=num_nodes_previous), decimals=2),\n",
    "                'bias': np.around(np.random.uniform(size=1), decimals=2),\n",
    "            }\n",
    "    \n",
    "        num_nodes_previous = num_nodes\n",
    "\n",
    "    return network # return the network"
   ],
   "id": "bd8fe13d615552b6",
   "outputs": [],
   "execution_count": 16
  },
  {
   "metadata": {
    "ExecuteTime": {
     "end_time": "2024-11-02T07:11:25.380043Z",
     "start_time": "2024-11-02T07:11:25.377402Z"
    }
   },
   "cell_type": "code",
   "source": "small_network = initialize_network(5, 3, [3, 2, 3], 1)",
   "id": "12df6b88be18ba1e",
   "outputs": [],
   "execution_count": 18
  },
  {
   "metadata": {
    "ExecuteTime": {
     "end_time": "2024-11-02T07:12:39.163725Z",
     "start_time": "2024-11-02T07:12:39.161502Z"
    }
   },
   "cell_type": "code",
   "source": [
    "def compute_weighted_sum(inputs, weights, bias):\n",
    "    return np.sum(inputs * weights) + bias"
   ],
   "id": "bffa87d2b282527",
   "outputs": [],
   "execution_count": 19
  },
  {
   "metadata": {
    "ExecuteTime": {
     "end_time": "2024-11-02T07:14:28.863406Z",
     "start_time": "2024-11-02T07:14:28.860107Z"
    }
   },
   "cell_type": "code",
   "source": [
    "from random import seed\n",
    "\n",
    "np.random.seed(12)\n",
    "inputs = np.around(np.random.uniform(size=5), decimals=2)\n",
    "node_weights = small_network['layer_1']['node_1']['weights']\n",
    "node_bias = small_network['layer_1']['node_1']['bias']\n",
    "\n",
    "weightedSum = compute_weighted_sum(inputs, node_weights, node_bias)\n",
    "print(weightedSum)"
   ],
   "id": "11c5dff9dbbd2550",
   "outputs": [
    {
     "name": "stdout",
     "output_type": "stream",
     "text": [
      "[0.7622]\n"
     ]
    }
   ],
   "execution_count": 20
  },
  {
   "metadata": {
    "ExecuteTime": {
     "end_time": "2024-11-02T07:15:02.031384Z",
     "start_time": "2024-11-02T07:15:02.028864Z"
    }
   },
   "cell_type": "code",
   "source": [
    "def node_activation(weightedSum):\n",
    "    return 1.0 / (1.0 + np.exp(-weightedSum))"
   ],
   "id": "ae9839fc484e5430",
   "outputs": [],
   "execution_count": 21
  },
  {
   "metadata": {
    "ExecuteTime": {
     "end_time": "2024-11-02T07:15:14.856028Z",
     "start_time": "2024-11-02T07:15:14.853195Z"
    }
   },
   "cell_type": "code",
   "source": [
    "finalOutput = node_activation(weightedSum)\n",
    "print(finalOutput)"
   ],
   "id": "e2618a57c5787308",
   "outputs": [
    {
     "name": "stdout",
     "output_type": "stream",
     "text": [
      "[0.68183119]\n"
     ]
    }
   ],
   "execution_count": 23
  },
  {
   "metadata": {
    "ExecuteTime": {
     "end_time": "2024-11-02T07:17:03.458778Z",
     "start_time": "2024-11-02T07:17:03.455594Z"
    }
   },
   "cell_type": "code",
   "source": [
    "def forward_propagate(network, inputs):\n",
    "    \n",
    "    layer_inputs = list(inputs) # start with the input layer as the input to the first hidden layer\n",
    "    \n",
    "    for layer in network:\n",
    "        \n",
    "        layer_data = network[layer]\n",
    "        \n",
    "        layer_outputs = [] \n",
    "        for layer_node in layer_data:\n",
    "        \n",
    "            node_data = layer_data[layer_node]\n",
    "        \n",
    "            # compute the weighted sum and the output of each node at the same time \n",
    "            node_output = node_activation(compute_weighted_sum(layer_inputs, node_data['weights'], node_data['bias']))\n",
    "            layer_outputs.append(np.around(node_output[0], decimals=4))\n",
    "            \n",
    "        if layer != 'output':\n",
    "            print('The outputs of the nodes in hidden layer number {} is {}'.format(layer.split('_')[1], layer_outputs))\n",
    "    \n",
    "        layer_inputs = layer_outputs # set the output of this layer to be the input to next layer\n",
    "\n",
    "    network_predictions = layer_outputs\n",
    "    return network_predictions"
   ],
   "id": "577ba2d19475357c",
   "outputs": [],
   "execution_count": 24
  },
  {
   "metadata": {
    "ExecuteTime": {
     "end_time": "2024-11-02T07:17:32.930230Z",
     "start_time": "2024-11-02T07:17:32.926926Z"
    }
   },
   "cell_type": "code",
   "source": [
    "predictions = forward_propagate(small_network, inputs)\n",
    "print(predictions[0])"
   ],
   "id": "cebfcd4a723c7a68",
   "outputs": [
    {
     "name": "stdout",
     "output_type": "stream",
     "text": [
      "The outputs of the nodes in hidden layer number 1 is [np.float64(0.6818), np.float64(0.8433), np.float64(0.7395)]\n",
      "The outputs of the nodes in hidden layer number 2 is [np.float64(0.918), np.float64(0.8774)]\n",
      "The outputs of the nodes in hidden layer number 3 is [np.float64(0.9237), np.float64(0.5819), np.float64(0.7458)]\n",
      "0.7761\n"
     ]
    }
   ],
   "execution_count": 27
  },
  {
   "metadata": {},
   "cell_type": "code",
   "outputs": [],
   "execution_count": null,
   "source": "",
   "id": "9d1bd6bbfb3f75c0"
  }
 ],
 "metadata": {
  "kernelspec": {
   "display_name": "Python 3",
   "language": "python",
   "name": "python3"
  },
  "language_info": {
   "codemirror_mode": {
    "name": "ipython",
    "version": 2
   },
   "file_extension": ".py",
   "mimetype": "text/x-python",
   "name": "python",
   "nbconvert_exporter": "python",
   "pygments_lexer": "ipython2",
   "version": "2.7.6"
  }
 },
 "nbformat": 4,
 "nbformat_minor": 5
}
