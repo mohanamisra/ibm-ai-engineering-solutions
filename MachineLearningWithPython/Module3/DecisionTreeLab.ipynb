{
 "cells": [
  {
   "cell_type": "code",
   "id": "initial_id",
   "metadata": {
    "collapsed": true,
    "ExecuteTime": {
     "end_time": "2024-11-01T07:15:11.514463Z",
     "start_time": "2024-11-01T07:15:11.512267Z"
    }
   },
   "source": [
    "import numpy as np\n",
    "import matplotlib.pyplot as plt\n",
    "import pandas as pd"
   ],
   "outputs": [],
   "execution_count": 9
  },
  {
   "metadata": {
    "ExecuteTime": {
     "end_time": "2024-11-01T07:15:12.050608Z",
     "start_time": "2024-11-01T07:15:12.042913Z"
    }
   },
   "cell_type": "code",
   "source": [
    "df = pd.read_csv('./drug200.csv')\n",
    "df.head()"
   ],
   "id": "865dda8abf9a007b",
   "outputs": [
    {
     "data": {
      "text/plain": [
       "   Age Sex      BP Cholesterol  Na_to_K   Drug\n",
       "0   23   F    HIGH        HIGH   25.355  drugY\n",
       "1   47   M     LOW        HIGH   13.093  drugC\n",
       "2   47   M     LOW        HIGH   10.114  drugC\n",
       "3   28   F  NORMAL        HIGH    7.798  drugX\n",
       "4   61   F     LOW        HIGH   18.043  drugY"
      ],
      "text/html": [
       "<div>\n",
       "<style scoped>\n",
       "    .dataframe tbody tr th:only-of-type {\n",
       "        vertical-align: middle;\n",
       "    }\n",
       "\n",
       "    .dataframe tbody tr th {\n",
       "        vertical-align: top;\n",
       "    }\n",
       "\n",
       "    .dataframe thead th {\n",
       "        text-align: right;\n",
       "    }\n",
       "</style>\n",
       "<table border=\"1\" class=\"dataframe\">\n",
       "  <thead>\n",
       "    <tr style=\"text-align: right;\">\n",
       "      <th></th>\n",
       "      <th>Age</th>\n",
       "      <th>Sex</th>\n",
       "      <th>BP</th>\n",
       "      <th>Cholesterol</th>\n",
       "      <th>Na_to_K</th>\n",
       "      <th>Drug</th>\n",
       "    </tr>\n",
       "  </thead>\n",
       "  <tbody>\n",
       "    <tr>\n",
       "      <th>0</th>\n",
       "      <td>23</td>\n",
       "      <td>F</td>\n",
       "      <td>HIGH</td>\n",
       "      <td>HIGH</td>\n",
       "      <td>25.355</td>\n",
       "      <td>drugY</td>\n",
       "    </tr>\n",
       "    <tr>\n",
       "      <th>1</th>\n",
       "      <td>47</td>\n",
       "      <td>M</td>\n",
       "      <td>LOW</td>\n",
       "      <td>HIGH</td>\n",
       "      <td>13.093</td>\n",
       "      <td>drugC</td>\n",
       "    </tr>\n",
       "    <tr>\n",
       "      <th>2</th>\n",
       "      <td>47</td>\n",
       "      <td>M</td>\n",
       "      <td>LOW</td>\n",
       "      <td>HIGH</td>\n",
       "      <td>10.114</td>\n",
       "      <td>drugC</td>\n",
       "    </tr>\n",
       "    <tr>\n",
       "      <th>3</th>\n",
       "      <td>28</td>\n",
       "      <td>F</td>\n",
       "      <td>NORMAL</td>\n",
       "      <td>HIGH</td>\n",
       "      <td>7.798</td>\n",
       "      <td>drugX</td>\n",
       "    </tr>\n",
       "    <tr>\n",
       "      <th>4</th>\n",
       "      <td>61</td>\n",
       "      <td>F</td>\n",
       "      <td>LOW</td>\n",
       "      <td>HIGH</td>\n",
       "      <td>18.043</td>\n",
       "      <td>drugY</td>\n",
       "    </tr>\n",
       "  </tbody>\n",
       "</table>\n",
       "</div>"
      ]
     },
     "execution_count": 10,
     "metadata": {},
     "output_type": "execute_result"
    }
   ],
   "execution_count": 10
  },
  {
   "metadata": {
    "ExecuteTime": {
     "end_time": "2024-11-01T07:15:12.674121Z",
     "start_time": "2024-11-01T07:15:12.669771Z"
    }
   },
   "cell_type": "code",
   "source": "df.size",
   "id": "c461049ed2dde496",
   "outputs": [
    {
     "data": {
      "text/plain": [
       "1200"
      ]
     },
     "execution_count": 11,
     "metadata": {},
     "output_type": "execute_result"
    }
   ],
   "execution_count": 11
  },
  {
   "metadata": {
    "ExecuteTime": {
     "end_time": "2024-11-01T07:15:13.091109Z",
     "start_time": "2024-11-01T07:15:13.088347Z"
    }
   },
   "cell_type": "code",
   "source": [
    "x = df.iloc[:, :-1]\n",
    "y = df.iloc[:, -1]"
   ],
   "id": "824606b7d30d1599",
   "outputs": [],
   "execution_count": 12
  },
  {
   "metadata": {
    "ExecuteTime": {
     "end_time": "2024-11-01T07:15:13.422560Z",
     "start_time": "2024-11-01T07:15:13.419472Z"
    }
   },
   "cell_type": "code",
   "source": [
    "from sklearn import preprocessing\n",
    "\n",
    "le_sex = preprocessing.LabelEncoder()\n",
    "le_sex.fit(['F', 'M'])\n",
    "x = x.values\n",
    "x[:, 1] = le_sex.transform(x[:, 1])"
   ],
   "id": "c928dfed3de32a2e",
   "outputs": [],
   "execution_count": 13
  },
  {
   "metadata": {
    "ExecuteTime": {
     "end_time": "2024-10-26T05:25:59.349720Z",
     "start_time": "2024-10-26T05:25:59.346485Z"
    }
   },
   "cell_type": "code",
   "source": [
    "le_BP = preprocessing.LabelEncoder()\n",
    "le_BP.fit([ 'LOW', 'NORMAL', 'HIGH'])\n",
    "x[:,2] = le_BP.transform(x[:,2])\n",
    "\n",
    "\n",
    "le_Chol = preprocessing.LabelEncoder()\n",
    "le_Chol.fit([ 'NORMAL', 'HIGH'])\n",
    "x[:,3] = le_Chol.transform(x[:,3]) "
   ],
   "id": "bfdbaf38ba28efc0",
   "outputs": [],
   "execution_count": 22
  },
  {
   "metadata": {
    "ExecuteTime": {
     "end_time": "2024-10-26T05:26:39.251416Z",
     "start_time": "2024-10-26T05:26:39.218967Z"
    }
   },
   "cell_type": "code",
   "source": [
    "from sklearn.model_selection import train_test_split\n",
    "x_train, x_test, y_train, y_test = train_test_split(x, y, test_size=0.2, random_state=3)"
   ],
   "id": "c3adf7e6ff499f2b",
   "outputs": [],
   "execution_count": 23
  },
  {
   "metadata": {
    "ExecuteTime": {
     "end_time": "2024-10-26T05:26:49.296453Z",
     "start_time": "2024-10-26T05:26:49.293073Z"
    }
   },
   "cell_type": "code",
   "source": "x_train.shape, y_train.shape",
   "id": "da378e967ef0f042",
   "outputs": [
    {
     "data": {
      "text/plain": [
       "((160, 5), (160,))"
      ]
     },
     "execution_count": 25,
     "metadata": {},
     "output_type": "execute_result"
    }
   ],
   "execution_count": 25
  },
  {
   "metadata": {
    "ExecuteTime": {
     "end_time": "2024-10-26T05:27:01.390974Z",
     "start_time": "2024-10-26T05:27:01.388238Z"
    }
   },
   "cell_type": "code",
   "source": "x_test.shape, y_test.shape",
   "id": "b002e938c6977629",
   "outputs": [
    {
     "data": {
      "text/plain": [
       "((40, 5), (40,))"
      ]
     },
     "execution_count": 27,
     "metadata": {},
     "output_type": "execute_result"
    }
   ],
   "execution_count": 27
  },
  {
   "metadata": {
    "ExecuteTime": {
     "end_time": "2024-10-26T05:27:59.401666Z",
     "start_time": "2024-10-26T05:27:59.398355Z"
    }
   },
   "cell_type": "code",
   "source": [
    "from sklearn.tree import DecisionTreeClassifier\n",
    "dtc = DecisionTreeClassifier(criterion='entropy', max_depth = 4)\n",
    "print(dtc)"
   ],
   "id": "981a64407d72f52b",
   "outputs": [
    {
     "name": "stdout",
     "output_type": "stream",
     "text": [
      "DecisionTreeClassifier(criterion='entropy', max_depth=4)\n"
     ]
    }
   ],
   "execution_count": 36
  },
  {
   "metadata": {
    "ExecuteTime": {
     "end_time": "2024-10-26T05:28:15.709656Z",
     "start_time": "2024-10-26T05:28:15.706008Z"
    }
   },
   "cell_type": "code",
   "source": [
    "dtc.fit(x_train, y_train)\n",
    "y_pred = dtc.predict(x_test)"
   ],
   "id": "341169225ec03d98",
   "outputs": [],
   "execution_count": 37
  },
  {
   "metadata": {
    "ExecuteTime": {
     "end_time": "2024-10-26T05:28:17.502486Z",
     "start_time": "2024-10-26T05:28:17.498657Z"
    }
   },
   "cell_type": "code",
   "source": "y_pred",
   "id": "fbdf8b39daae49c4",
   "outputs": [
    {
     "data": {
      "text/plain": [
       "array(['drugY', 'drugX', 'drugX', 'drugX', 'drugX', 'drugC', 'drugY',\n",
       "       'drugA', 'drugB', 'drugA', 'drugY', 'drugA', 'drugY', 'drugY',\n",
       "       'drugX', 'drugY', 'drugX', 'drugX', 'drugB', 'drugX', 'drugX',\n",
       "       'drugY', 'drugY', 'drugY', 'drugX', 'drugB', 'drugY', 'drugY',\n",
       "       'drugA', 'drugX', 'drugB', 'drugC', 'drugC', 'drugX', 'drugX',\n",
       "       'drugC', 'drugY', 'drugX', 'drugX', 'drugX'], dtype=object)"
      ]
     },
     "execution_count": 38,
     "metadata": {},
     "output_type": "execute_result"
    }
   ],
   "execution_count": 38
  },
  {
   "metadata": {
    "ExecuteTime": {
     "end_time": "2024-10-26T05:28:21.646145Z",
     "start_time": "2024-10-26T05:28:21.642841Z"
    }
   },
   "cell_type": "code",
   "source": "y_test",
   "id": "bd9dc7faefbdbacc",
   "outputs": [
    {
     "data": {
      "text/plain": [
       "40     drugY\n",
       "51     drugX\n",
       "139    drugX\n",
       "197    drugX\n",
       "170    drugX\n",
       "82     drugC\n",
       "183    drugY\n",
       "46     drugA\n",
       "70     drugB\n",
       "100    drugA\n",
       "179    drugY\n",
       "83     drugA\n",
       "25     drugY\n",
       "190    drugY\n",
       "159    drugX\n",
       "173    drugY\n",
       "95     drugX\n",
       "3      drugX\n",
       "41     drugB\n",
       "58     drugX\n",
       "14     drugX\n",
       "143    drugY\n",
       "12     drugY\n",
       "6      drugY\n",
       "182    drugX\n",
       "161    drugB\n",
       "128    drugY\n",
       "122    drugY\n",
       "101    drugA\n",
       "86     drugX\n",
       "64     drugB\n",
       "47     drugC\n",
       "158    drugC\n",
       "34     drugX\n",
       "38     drugX\n",
       "196    drugC\n",
       "4      drugY\n",
       "72     drugX\n",
       "67     drugX\n",
       "145    drugX\n",
       "Name: Drug, dtype: object"
      ]
     },
     "execution_count": 39,
     "metadata": {},
     "output_type": "execute_result"
    }
   ],
   "execution_count": 39
  },
  {
   "metadata": {
    "ExecuteTime": {
     "end_time": "2024-10-26T05:28:46.142065Z",
     "start_time": "2024-10-26T05:28:46.138256Z"
    }
   },
   "cell_type": "code",
   "source": [
    "from sklearn.metrics import accuracy_score\n",
    "acc = accuracy_score(y_test, y_pred)\n",
    "print(acc)"
   ],
   "id": "e333799fec431c15",
   "outputs": [
    {
     "name": "stdout",
     "output_type": "stream",
     "text": [
      "1.0\n"
     ]
    }
   ],
   "execution_count": 41
  },
  {
   "metadata": {
    "ExecuteTime": {
     "end_time": "2024-10-26T05:29:48.990487Z",
     "start_time": "2024-10-26T05:29:48.788780Z"
    }
   },
   "cell_type": "code",
   "source": [
    "from sklearn import tree\n",
    "tree.plot_tree(dtc)\n",
    "plt.show()"
   ],
   "id": "b43df6f90c433590",
   "outputs": [
    {
     "data": {
      "text/plain": [
       "<Figure size 640x480 with 1 Axes>"
      ],
      "image/png": "[encoded data removed]"
     },
     "metadata": {},
     "output_type": "display_data"
    }
   ],
   "execution_count": 43
  },
  {
   "metadata": {},
   "cell_type": "code",
   "outputs": [],
   "execution_count": null,
   "source": "",
   "id": "bfdf5b2bf312d1a5"
  }
 ],
 "metadata": {
  "kernelspec": {
   "display_name": "Python 3",
   "language": "python",
   "name": "python3"
  },
  "language_info": {
   "codemirror_mode": {
    "name": "ipython",
    "version": 2
   },
   "file_extension": ".py",
   "mimetype": "text/x-python",
   "name": "python",
   "nbconvert_exporter": "python",
   "pygments_lexer": "ipython2",
   "version": "2.7.6"
  }
 },
 "nbformat": 4,
 "nbformat_minor": 5
}
